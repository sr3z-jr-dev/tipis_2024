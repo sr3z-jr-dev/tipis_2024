{
 "cells": [
  {
   "cell_type": "code",
   "execution_count": 17,
   "metadata": {
    "colab": {
     "base_uri": "https://localhost:8080/"
    },
    "executionInfo": {
     "elapsed": 3194,
     "status": "ok",
     "timestamp": 1732526900900,
     "user": {
      "displayName": "Yegor Popov",
      "userId": "06042124413976751542"
     },
     "user_tz": -180
    },
    "id": "tGbZ6VFZskmU",
    "outputId": "d4f678c3-e10e-458d-a3fb-2e6b6a7911c1"
   },
   "outputs": [],
   "source": [
    "import kagglehub\n",
    "\n",
    "path = kagglehub.dataset_download(\"idowuadamo/students-performance-in-2024-jamb\")"
   ]
  },
  {
   "cell_type": "code",
   "execution_count": 8,
   "metadata": {
    "executionInfo": {
     "elapsed": 10408,
     "status": "ok",
     "timestamp": 1732526911306,
     "user": {
      "displayName": "Yegor Popov",
      "userId": "06042124413976751542"
     },
     "user_tz": -180
    },
    "id": "t3oZPtLSsxUP"
   },
   "outputs": [],
   "source": [
    "import pandas as pd\n",
    "from sklearn.model_selection import train_test_split\n",
    "from sklearn.feature_extraction import DictVectorizer\n",
    "from sklearn.tree import DecisionTreeRegressor\n",
    "from sklearn.metrics import mean_squared_error\n",
    "\n",
    "\n",
    "df = pd.read_csv('jamb_exam_results.csv')\n",
    "\n",
    "df.columns = df.columns.str.lower().str.replace(' ', '_')\n",
    "\n",
    "df = df.drop(columns=['student_id'])\n",
    "\n",
    "df = df.fillna(0)\n",
    "\n",
    "train_data, temp_data = train_test_split(df, test_size=0.4, random_state=1)\n",
    "val_data, test_data = train_test_split(temp_data, test_size=0.5, random_state=1)\n"
   ]
  },
  {
   "cell_type": "code",
   "execution_count": 9,
   "metadata": {
    "executionInfo": {
     "elapsed": 250,
     "status": "ok",
     "timestamp": 1732526911553,
     "user": {
      "displayName": "Yegor Popov",
      "userId": "06042124413976751542"
     },
     "user_tz": -180
    },
    "id": "afkh4H8SE36b"
   },
   "outputs": [],
   "source": [
    "# Разделение признаков (X) и целевой переменной (y)\n",
    "train_dicts = train_data.drop(columns=['jamb_score']).to_dict(orient='records')\n",
    "val_dicts = val_data.drop(columns=['jamb_score']).to_dict(orient='records')\n",
    "test_dicts = test_data.drop(columns=['jamb_score']).to_dict(orient='records')\n",
    "\n",
    "# Использование DictVectorizer для преобразования данных\n",
    "dv = DictVectorizer(sparse=True)\n",
    "\n",
    "X_train = dv.fit_transform(train_dicts)\n",
    "X_val = dv.transform(val_dicts)\n",
    "X_test = dv.transform(test_dicts)\n",
    "\n",
    "y_train = train_data['jamb_score'].values\n",
    "y_val = val_data['jamb_score'].values\n",
    "y_test = test_data['jamb_score'].values\n"
   ]
  },
  {
   "cell_type": "code",
   "execution_count": 10,
   "metadata": {
    "colab": {
     "base_uri": "https://localhost:8080/"
    },
    "executionInfo": {
     "elapsed": 3,
     "status": "ok",
     "timestamp": 1732526911553,
     "user": {
      "displayName": "Yegor Popov",
      "userId": "06042124413976751542"
     },
     "user_tz": -180
    },
    "id": "nk3tuS14Fn7x",
    "outputId": "65d141a4-ef15-4d43-dc17-ecdba7ac2c4b"
   },
   "outputs": [
    {
     "name": "stdout",
     "output_type": "stream",
     "text": [
      "RMSE на валидационной выборке: 44.85913145740971\n"
     ]
    },
    {
     "name": "stderr",
     "output_type": "stream",
     "text": [
      "C:\\Users\\Semen\\AppData\\Local\\Packages\\PythonSoftwareFoundation.Python.3.12_qbz5n2kfra8p0\\LocalCache\\local-packages\\Python312\\site-packages\\sklearn\\metrics\\_regression.py:492: FutureWarning: 'squared' is deprecated in version 1.4 and will be removed in 1.6. To calculate the root mean squared error, use the function'root_mean_squared_error'.\n",
      "  warnings.warn(\n"
     ]
    }
   ],
   "source": [
    "# Обучение дерева решений\n",
    "model = DecisionTreeRegressor(max_depth=1, random_state=1)\n",
    "model.fit(X_train, y_train)\n",
    "\n",
    "# Предсказания и оценка модели\n",
    "y_pred = model.predict(X_val)\n",
    "rmse = mean_squared_error(y_val, y_pred, squared=False)\n",
    "\n",
    "print(f\"RMSE на валидационной выборке: {rmse}\")\n"
   ]
  },
  {
   "cell_type": "code",
   "execution_count": 11,
   "metadata": {
    "colab": {
     "base_uri": "https://localhost:8080/"
    },
    "executionInfo": {
     "elapsed": 1886,
     "status": "ok",
     "timestamp": 1732526913438,
     "user": {
      "displayName": "Yegor Popov",
      "userId": "06042124413976751542"
     },
     "user_tz": -180
    },
    "id": "V7mct4KHEHGg",
    "outputId": "1c8a5a43-5541-4a49-9680-7d99e9dddd43"
   },
   "outputs": [
    {
     "name": "stdout",
     "output_type": "stream",
     "text": [
      "RMSE случайного леса на валидационных данных: 43.16\n"
     ]
    },
    {
     "name": "stderr",
     "output_type": "stream",
     "text": [
      "C:\\Users\\Semen\\AppData\\Local\\Packages\\PythonSoftwareFoundation.Python.3.12_qbz5n2kfra8p0\\LocalCache\\local-packages\\Python312\\site-packages\\sklearn\\metrics\\_regression.py:492: FutureWarning: 'squared' is deprecated in version 1.4 and will be removed in 1.6. To calculate the root mean squared error, use the function'root_mean_squared_error'.\n",
      "  warnings.warn(\n"
     ]
    }
   ],
   "source": [
    "from sklearn.ensemble import RandomForestRegressor\n",
    "\n",
    "# Обучение случайного леса\n",
    "rf_model = RandomForestRegressor(n_estimators=10, random_state=1, n_jobs=-1)\n",
    "rf_model.fit(X_train, y_train)\n",
    "\n",
    "# Предсказания и оценка RMSE\n",
    "y_pred_rf = rf_model.predict(X_val)\n",
    "rmse_rf = mean_squared_error(y_val, y_pred_rf, squared=False)\n",
    "\n",
    "print(f\"RMSE случайного леса на валидационных данных: {rmse_rf:.2f}\")\n"
   ]
  },
  {
   "cell_type": "code",
   "execution_count": 12,
   "metadata": {
    "colab": {
     "base_uri": "https://localhost:8080/"
    },
    "executionInfo": {
     "elapsed": 211562,
     "status": "ok",
     "timestamp": 1732527124998,
     "user": {
      "displayName": "Yegor Popov",
      "userId": "06042124413976751542"
     },
     "user_tz": -180
    },
    "id": "NUYHDI5EFB_8",
    "outputId": "dcf6f1a5-5218-42db-e3d9-20bf6a336ba1"
   },
   "outputs": [
    {
     "name": "stderr",
     "output_type": "stream",
     "text": [
      "C:\\Users\\Semen\\AppData\\Local\\Packages\\PythonSoftwareFoundation.Python.3.12_qbz5n2kfra8p0\\LocalCache\\local-packages\\Python312\\site-packages\\sklearn\\metrics\\_regression.py:492: FutureWarning: 'squared' is deprecated in version 1.4 and will be removed in 1.6. To calculate the root mean squared error, use the function'root_mean_squared_error'.\n",
      "  warnings.warn(\n",
      "C:\\Users\\Semen\\AppData\\Local\\Packages\\PythonSoftwareFoundation.Python.3.12_qbz5n2kfra8p0\\LocalCache\\local-packages\\Python312\\site-packages\\sklearn\\metrics\\_regression.py:492: FutureWarning: 'squared' is deprecated in version 1.4 and will be removed in 1.6. To calculate the root mean squared error, use the function'root_mean_squared_error'.\n",
      "  warnings.warn(\n",
      "C:\\Users\\Semen\\AppData\\Local\\Packages\\PythonSoftwareFoundation.Python.3.12_qbz5n2kfra8p0\\LocalCache\\local-packages\\Python312\\site-packages\\sklearn\\metrics\\_regression.py:492: FutureWarning: 'squared' is deprecated in version 1.4 and will be removed in 1.6. To calculate the root mean squared error, use the function'root_mean_squared_error'.\n",
      "  warnings.warn(\n",
      "C:\\Users\\Semen\\AppData\\Local\\Packages\\PythonSoftwareFoundation.Python.3.12_qbz5n2kfra8p0\\LocalCache\\local-packages\\Python312\\site-packages\\sklearn\\metrics\\_regression.py:492: FutureWarning: 'squared' is deprecated in version 1.4 and will be removed in 1.6. To calculate the root mean squared error, use the function'root_mean_squared_error'.\n",
      "  warnings.warn(\n",
      "C:\\Users\\Semen\\AppData\\Local\\Packages\\PythonSoftwareFoundation.Python.3.12_qbz5n2kfra8p0\\LocalCache\\local-packages\\Python312\\site-packages\\sklearn\\metrics\\_regression.py:492: FutureWarning: 'squared' is deprecated in version 1.4 and will be removed in 1.6. To calculate the root mean squared error, use the function'root_mean_squared_error'.\n",
      "  warnings.warn(\n",
      "C:\\Users\\Semen\\AppData\\Local\\Packages\\PythonSoftwareFoundation.Python.3.12_qbz5n2kfra8p0\\LocalCache\\local-packages\\Python312\\site-packages\\sklearn\\metrics\\_regression.py:492: FutureWarning: 'squared' is deprecated in version 1.4 and will be removed in 1.6. To calculate the root mean squared error, use the function'root_mean_squared_error'.\n",
      "  warnings.warn(\n",
      "C:\\Users\\Semen\\AppData\\Local\\Packages\\PythonSoftwareFoundation.Python.3.12_qbz5n2kfra8p0\\LocalCache\\local-packages\\Python312\\site-packages\\sklearn\\metrics\\_regression.py:492: FutureWarning: 'squared' is deprecated in version 1.4 and will be removed in 1.6. To calculate the root mean squared error, use the function'root_mean_squared_error'.\n",
      "  warnings.warn(\n",
      "C:\\Users\\Semen\\AppData\\Local\\Packages\\PythonSoftwareFoundation.Python.3.12_qbz5n2kfra8p0\\LocalCache\\local-packages\\Python312\\site-packages\\sklearn\\metrics\\_regression.py:492: FutureWarning: 'squared' is deprecated in version 1.4 and will be removed in 1.6. To calculate the root mean squared error, use the function'root_mean_squared_error'.\n",
      "  warnings.warn(\n",
      "C:\\Users\\Semen\\AppData\\Local\\Packages\\PythonSoftwareFoundation.Python.3.12_qbz5n2kfra8p0\\LocalCache\\local-packages\\Python312\\site-packages\\sklearn\\metrics\\_regression.py:492: FutureWarning: 'squared' is deprecated in version 1.4 and will be removed in 1.6. To calculate the root mean squared error, use the function'root_mean_squared_error'.\n",
      "  warnings.warn(\n",
      "C:\\Users\\Semen\\AppData\\Local\\Packages\\PythonSoftwareFoundation.Python.3.12_qbz5n2kfra8p0\\LocalCache\\local-packages\\Python312\\site-packages\\sklearn\\metrics\\_regression.py:492: FutureWarning: 'squared' is deprecated in version 1.4 and will be removed in 1.6. To calculate the root mean squared error, use the function'root_mean_squared_error'.\n",
      "  warnings.warn(\n",
      "C:\\Users\\Semen\\AppData\\Local\\Packages\\PythonSoftwareFoundation.Python.3.12_qbz5n2kfra8p0\\LocalCache\\local-packages\\Python312\\site-packages\\sklearn\\metrics\\_regression.py:492: FutureWarning: 'squared' is deprecated in version 1.4 and will be removed in 1.6. To calculate the root mean squared error, use the function'root_mean_squared_error'.\n",
      "  warnings.warn(\n",
      "C:\\Users\\Semen\\AppData\\Local\\Packages\\PythonSoftwareFoundation.Python.3.12_qbz5n2kfra8p0\\LocalCache\\local-packages\\Python312\\site-packages\\sklearn\\metrics\\_regression.py:492: FutureWarning: 'squared' is deprecated in version 1.4 and will be removed in 1.6. To calculate the root mean squared error, use the function'root_mean_squared_error'.\n",
      "  warnings.warn(\n",
      "C:\\Users\\Semen\\AppData\\Local\\Packages\\PythonSoftwareFoundation.Python.3.12_qbz5n2kfra8p0\\LocalCache\\local-packages\\Python312\\site-packages\\sklearn\\metrics\\_regression.py:492: FutureWarning: 'squared' is deprecated in version 1.4 and will be removed in 1.6. To calculate the root mean squared error, use the function'root_mean_squared_error'.\n",
      "  warnings.warn(\n",
      "C:\\Users\\Semen\\AppData\\Local\\Packages\\PythonSoftwareFoundation.Python.3.12_qbz5n2kfra8p0\\LocalCache\\local-packages\\Python312\\site-packages\\sklearn\\metrics\\_regression.py:492: FutureWarning: 'squared' is deprecated in version 1.4 and will be removed in 1.6. To calculate the root mean squared error, use the function'root_mean_squared_error'.\n",
      "  warnings.warn(\n",
      "C:\\Users\\Semen\\AppData\\Local\\Packages\\PythonSoftwareFoundation.Python.3.12_qbz5n2kfra8p0\\LocalCache\\local-packages\\Python312\\site-packages\\sklearn\\metrics\\_regression.py:492: FutureWarning: 'squared' is deprecated in version 1.4 and will be removed in 1.6. To calculate the root mean squared error, use the function'root_mean_squared_error'.\n",
      "  warnings.warn(\n",
      "C:\\Users\\Semen\\AppData\\Local\\Packages\\PythonSoftwareFoundation.Python.3.12_qbz5n2kfra8p0\\LocalCache\\local-packages\\Python312\\site-packages\\sklearn\\metrics\\_regression.py:492: FutureWarning: 'squared' is deprecated in version 1.4 and will be removed in 1.6. To calculate the root mean squared error, use the function'root_mean_squared_error'.\n",
      "  warnings.warn(\n",
      "C:\\Users\\Semen\\AppData\\Local\\Packages\\PythonSoftwareFoundation.Python.3.12_qbz5n2kfra8p0\\LocalCache\\local-packages\\Python312\\site-packages\\sklearn\\metrics\\_regression.py:492: FutureWarning: 'squared' is deprecated in version 1.4 and will be removed in 1.6. To calculate the root mean squared error, use the function'root_mean_squared_error'.\n",
      "  warnings.warn(\n",
      "C:\\Users\\Semen\\AppData\\Local\\Packages\\PythonSoftwareFoundation.Python.3.12_qbz5n2kfra8p0\\LocalCache\\local-packages\\Python312\\site-packages\\sklearn\\metrics\\_regression.py:492: FutureWarning: 'squared' is deprecated in version 1.4 and will be removed in 1.6. To calculate the root mean squared error, use the function'root_mean_squared_error'.\n",
      "  warnings.warn(\n",
      "C:\\Users\\Semen\\AppData\\Local\\Packages\\PythonSoftwareFoundation.Python.3.12_qbz5n2kfra8p0\\LocalCache\\local-packages\\Python312\\site-packages\\sklearn\\metrics\\_regression.py:492: FutureWarning: 'squared' is deprecated in version 1.4 and will be removed in 1.6. To calculate the root mean squared error, use the function'root_mean_squared_error'.\n",
      "  warnings.warn(\n"
     ]
    },
    {
     "name": "stdout",
     "output_type": "stream",
     "text": [
      "n_estimators: 10, RMSE: 43.158\n",
      "n_estimators: 20, RMSE: 41.790\n",
      "n_estimators: 30, RMSE: 41.556\n",
      "n_estimators: 40, RMSE: 41.076\n",
      "n_estimators: 50, RMSE: 40.957\n",
      "n_estimators: 60, RMSE: 40.774\n",
      "n_estimators: 70, RMSE: 40.588\n",
      "n_estimators: 80, RMSE: 40.503\n",
      "n_estimators: 90, RMSE: 40.435\n",
      "n_estimators: 100, RMSE: 40.365\n",
      "n_estimators: 110, RMSE: 40.348\n",
      "n_estimators: 120, RMSE: 40.302\n",
      "n_estimators: 130, RMSE: 40.286\n",
      "n_estimators: 140, RMSE: 40.263\n",
      "n_estimators: 150, RMSE: 40.254\n",
      "n_estimators: 160, RMSE: 40.200\n",
      "n_estimators: 170, RMSE: 40.187\n",
      "n_estimators: 180, RMSE: 40.136\n",
      "n_estimators: 190, RMSE: 40.152\n",
      "n_estimators: 200, RMSE: 40.138\n",
      "Оптимальное значение n_estimators: 180\n"
     ]
    },
    {
     "name": "stderr",
     "output_type": "stream",
     "text": [
      "C:\\Users\\Semen\\AppData\\Local\\Packages\\PythonSoftwareFoundation.Python.3.12_qbz5n2kfra8p0\\LocalCache\\local-packages\\Python312\\site-packages\\sklearn\\metrics\\_regression.py:492: FutureWarning: 'squared' is deprecated in version 1.4 and will be removed in 1.6. To calculate the root mean squared error, use the function'root_mean_squared_error'.\n",
      "  warnings.warn(\n"
     ]
    }
   ],
   "source": [
    "import numpy as np\n",
    "\n",
    "rmse_values = []\n",
    "n_estimators_range = range(10, 201, 10)\n",
    "\n",
    "# Цикл по разным значениям n_estimators\n",
    "for n in n_estimators_range:\n",
    "    rf_model = RandomForestRegressor(n_estimators=n, random_state=1, n_jobs=-1)\n",
    "    rf_model.fit(X_train, y_train)\n",
    "    y_pred_rf = rf_model.predict(X_val)\n",
    "    rmse = mean_squared_error(y_val, y_pred_rf, squared=False)\n",
    "    rmse_values.append(rmse)\n",
    "\n",
    "# Найдем значение n_estimators, после которого RMSE перестает улучшаться\n",
    "rmse_values = np.array(rmse_values)\n",
    "optimal_n_estimators = n_estimators_range[np.argmin(rmse_values)]\n",
    "\n",
    "# Вывод результатов\n",
    "for n, rmse in zip(n_estimators_range, rmse_values):\n",
    "    print(f\"n_estimators: {n}, RMSE: {rmse:.3f}\")\n",
    "\n",
    "print(f\"Оптимальное значение n_estimators: {optimal_n_estimators}\")\n"
   ]
  },
  {
   "cell_type": "code",
   "execution_count": 13,
   "metadata": {
    "colab": {
     "base_uri": "https://localhost:8080/"
    },
    "executionInfo": {
     "elapsed": 1059,
     "status": "ok",
     "timestamp": 1732527661914,
     "user": {
      "displayName": "Yegor Popov",
      "userId": "06042124413976751542"
     },
     "user_tz": -180
    },
    "id": "_AutStFXpTFg",
    "outputId": "cf1fd65b-d76b-4e26-a9b5-0dc6c7bf9a4a"
   },
   "outputs": [
    {
     "name": "stdout",
     "output_type": "stream",
     "text": [
      "Самый важный признак: study_hours_per_week, Важность: 0.254\n"
     ]
    }
   ],
   "source": [
    "# Обучение случайного леса с указанными параметрами\n",
    "rf_model = RandomForestRegressor(n_estimators=10, max_depth=20, random_state=1, n_jobs=-1)\n",
    "rf_model.fit(X_train, y_train)\n",
    "\n",
    "# Получение важности признаков\n",
    "importances = rf_model.feature_importances_\n",
    "feature_names = dv.get_feature_names_out()\n",
    "\n",
    "# Находим самый важный признак\n",
    "important_features = sorted(zip(importances, feature_names), reverse=True)\n",
    "most_important_feature = important_features[0]\n",
    "\n",
    "print(f\"Самый важный признак: {most_important_feature[1]}, Важность: {most_important_feature[0]:.3f}\")\n"
   ]
  },
  {
   "cell_type": "code",
   "execution_count": 15,
   "metadata": {
    "colab": {
     "base_uri": "https://localhost:8080/"
    },
    "executionInfo": {
     "elapsed": 2946,
     "status": "ok",
     "timestamp": 1732527612549,
     "user": {
      "displayName": "Yegor Popov",
      "userId": "06042124413976751542"
     },
     "user_tz": -180
    },
    "id": "CbFLroHbG46_",
    "outputId": "a984718a-1e01-4e56-d37b-0d55cdff202a"
   },
   "outputs": [
    {
     "name": "stdout",
     "output_type": "stream",
     "text": [
      "RMSE при eta=0.3: 40.688\n",
      "RMSE при eta=0.1: 40.166\n",
      "Лучшее значение eta: 0.1\n"
     ]
    }
   ],
   "source": [
    "import xgboost as xgb\n",
    "from xgboost import DMatrix\n",
    "\n",
    "# Создание DMatrix для train и validation\n",
    "dtrain = xgb.DMatrix(X_train, label=y_train)\n",
    "dval = xgb.DMatrix(X_val, label=y_val)\n",
    "\n",
    "# Watchlist для валидации\n",
    "watchlist = [(dtrain, 'train'), (dval, 'validation')]\n",
    "\n",
    "# Определение параметров\n",
    "def train_xgb(eta):\n",
    "    xgb_params = {\n",
    "        'eta': eta,\n",
    "        'max_depth': 6,\n",
    "        'min_child_weight': 1,\n",
    "        'objective': 'reg:squarederror',\n",
    "        'nthread': 8,\n",
    "        'seed': 1,\n",
    "        'verbosity': 1,\n",
    "    }\n",
    "\n",
    "    # Обучение модели\n",
    "    model = xgb.train(params=xgb_params, dtrain=dtrain, num_boost_round=100, evals=watchlist, early_stopping_rounds=10, verbose_eval=False)\n",
    "    return model\n",
    "\n",
    "# Обучение моделей с разными eta\n",
    "model_eta_03 = train_xgb(eta=0.3)\n",
    "model_eta_01 = train_xgb(eta=0.1)\n",
    "\n",
    "# Получение RMSE\n",
    "rmse_eta_03 = model_eta_03.best_score\n",
    "rmse_eta_01 = model_eta_01.best_score\n",
    "\n",
    "print(f\"RMSE при eta=0.3: {rmse_eta_03:.3f}\")\n",
    "print(f\"RMSE при eta=0.1: {rmse_eta_01:.3f}\")\n",
    "\n",
    "# Определяем лучший eta\n",
    "if rmse_eta_01 < rmse_eta_03:\n",
    "    print(\"Лучшее значение eta: 0.1\")\n",
    "elif rmse_eta_01 > rmse_eta_03:\n",
    "    print(\"Лучшее значение eta: 0.3\")\n",
    "else:\n",
    "    print(\"Оба значения eta дают одинаковый результат.\")\n"
   ]
  }
 ],
 "metadata": {
  "colab": {
   "authorship_tag": "ABX9TyN+r6uqK9yd+p0N0zsOkl+C",
   "mount_file_id": "1X_jRFw5cam-H0MoNiU_Le8KqP3F0k2j2",
   "provenance": []
  },
  "kernelspec": {
   "display_name": "Python 3",
   "name": "python3"
  },
  "language_info": {
   "codemirror_mode": {
    "name": "ipython",
    "version": 3
   },
   "file_extension": ".py",
   "mimetype": "text/x-python",
   "name": "python",
   "nbconvert_exporter": "python",
   "pygments_lexer": "ipython3",
   "version": "3.12.7"
  }
 },
 "nbformat": 4,
 "nbformat_minor": 0
}
