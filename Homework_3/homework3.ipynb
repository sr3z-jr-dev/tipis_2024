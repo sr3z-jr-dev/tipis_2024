{
 "cells": [
  {
   "cell_type": "code",
   "execution_count": 1,
   "id": "c1908233-0761-46ee-bd3c-65be4f9b4111",
   "metadata": {},
   "outputs": [
    {
     "data": {
      "text/html": [
       "<div>\n",
       "<style scoped>\n",
       "    .dataframe tbody tr th:only-of-type {\n",
       "        vertical-align: middle;\n",
       "    }\n",
       "\n",
       "    .dataframe tbody tr th {\n",
       "        vertical-align: top;\n",
       "    }\n",
       "\n",
       "    .dataframe thead th {\n",
       "        text-align: right;\n",
       "    }\n",
       "</style>\n",
       "<table border=\"1\" class=\"dataframe\">\n",
       "  <thead>\n",
       "    <tr style=\"text-align: right;\">\n",
       "      <th></th>\n",
       "      <th>age;\"job\";\"marital\";\"education\";\"default\";\"balance\";\"housing\";\"loan\";\"contact\";\"day\";\"month\";\"duration\";\"campaign\";\"pdays\";\"previous\";\"poutcome\";\"y\"</th>\n",
       "    </tr>\n",
       "  </thead>\n",
       "  <tbody>\n",
       "    <tr>\n",
       "      <th>0</th>\n",
       "      <td>58;\"management\";\"married\";\"tertiary\";\"no\";2143...</td>\n",
       "    </tr>\n",
       "    <tr>\n",
       "      <th>1</th>\n",
       "      <td>44;\"technician\";\"single\";\"secondary\";\"no\";29;\"...</td>\n",
       "    </tr>\n",
       "    <tr>\n",
       "      <th>2</th>\n",
       "      <td>33;\"entrepreneur\";\"married\";\"secondary\";\"no\";2...</td>\n",
       "    </tr>\n",
       "    <tr>\n",
       "      <th>3</th>\n",
       "      <td>47;\"blue-collar\";\"married\";\"unknown\";\"no\";1506...</td>\n",
       "    </tr>\n",
       "    <tr>\n",
       "      <th>4</th>\n",
       "      <td>33;\"unknown\";\"single\";\"unknown\";\"no\";1;\"no\";\"n...</td>\n",
       "    </tr>\n",
       "  </tbody>\n",
       "</table>\n",
       "</div>"
      ],
      "text/plain": [
       "  age;\"job\";\"marital\";\"education\";\"default\";\"balance\";\"housing\";\"loan\";\"contact\";\"day\";\"month\";\"duration\";\"campaign\";\"pdays\";\"previous\";\"poutcome\";\"y\"\n",
       "0  58;\"management\";\"married\";\"tertiary\";\"no\";2143...                                                                                                  \n",
       "1  44;\"technician\";\"single\";\"secondary\";\"no\";29;\"...                                                                                                  \n",
       "2  33;\"entrepreneur\";\"married\";\"secondary\";\"no\";2...                                                                                                  \n",
       "3  47;\"blue-collar\";\"married\";\"unknown\";\"no\";1506...                                                                                                  \n",
       "4  33;\"unknown\";\"single\";\"unknown\";\"no\";1;\"no\";\"n...                                                                                                  "
      ]
     },
     "execution_count": 1,
     "metadata": {},
     "output_type": "execute_result"
    }
   ],
   "source": [
    "import pandas as pd\n",
    "import numpy as np\n",
    "file_path = 'bank-full.csv'\n",
    "old_df = pd.read_csv(file_path)\n",
    "old_df.head()"
   ]
  },
  {
   "cell_type": "code",
   "execution_count": 2,
   "id": "c22513a8-1a6a-4af1-b7db-74d13252263b",
   "metadata": {},
   "outputs": [
    {
     "name": "stdout",
     "output_type": "stream",
     "text": [
      "       0               1           2            3     4     5      6      7   \\\n",
      "0      58    \"management\"   \"married\"   \"tertiary\"  \"no\"  2143  \"yes\"   \"no\"   \n",
      "1      44    \"technician\"    \"single\"  \"secondary\"  \"no\"    29  \"yes\"   \"no\"   \n",
      "2      33  \"entrepreneur\"   \"married\"  \"secondary\"  \"no\"     2  \"yes\"  \"yes\"   \n",
      "3      47   \"blue-collar\"   \"married\"    \"unknown\"  \"no\"  1506  \"yes\"   \"no\"   \n",
      "4      33       \"unknown\"    \"single\"    \"unknown\"  \"no\"     1   \"no\"   \"no\"   \n",
      "...    ..             ...         ...          ...   ...   ...    ...    ...   \n",
      "45206  51    \"technician\"   \"married\"   \"tertiary\"  \"no\"   825   \"no\"   \"no\"   \n",
      "45207  71       \"retired\"  \"divorced\"    \"primary\"  \"no\"  1729   \"no\"   \"no\"   \n",
      "45208  72       \"retired\"   \"married\"  \"secondary\"  \"no\"  5715   \"no\"   \"no\"   \n",
      "45209  57   \"blue-collar\"   \"married\"  \"secondary\"  \"no\"   668   \"no\"   \"no\"   \n",
      "45210  37  \"entrepreneur\"   \"married\"  \"secondary\"  \"no\"  2971   \"no\"   \"no\"   \n",
      "\n",
      "                8   9      10    11 12   13  14         15     16  \n",
      "0        \"unknown\"   5  \"may\"   261  1   -1   0  \"unknown\"   \"no\"  \n",
      "1        \"unknown\"   5  \"may\"   151  1   -1   0  \"unknown\"   \"no\"  \n",
      "2        \"unknown\"   5  \"may\"    76  1   -1   0  \"unknown\"   \"no\"  \n",
      "3        \"unknown\"   5  \"may\"    92  1   -1   0  \"unknown\"   \"no\"  \n",
      "4        \"unknown\"   5  \"may\"   198  1   -1   0  \"unknown\"   \"no\"  \n",
      "...            ...  ..    ...   ... ..  ...  ..        ...    ...  \n",
      "45206   \"cellular\"  17  \"nov\"   977  3   -1   0  \"unknown\"  \"yes\"  \n",
      "45207   \"cellular\"  17  \"nov\"   456  2   -1   0  \"unknown\"  \"yes\"  \n",
      "45208   \"cellular\"  17  \"nov\"  1127  5  184   3  \"success\"  \"yes\"  \n",
      "45209  \"telephone\"  17  \"nov\"   508  4   -1   0  \"unknown\"   \"no\"  \n",
      "45210   \"cellular\"  17  \"nov\"   361  2  188  11    \"other\"   \"no\"  \n",
      "\n",
      "[45211 rows x 17 columns]\n"
     ]
    }
   ],
   "source": [
    "def split_column(row):\n",
    "    return row.strip().split(';')\n",
    "\n",
    "split_data = old_df['age;\"job\";\"marital\";\"education\";\"default\";\"balance\";\"housing\";\"loan\";\"contact\";\"day\";\"month\";\"duration\";\"campaign\";\"pdays\";\"previous\";\"poutcome\";\"y\"'].apply(split_column)\n",
    "df = pd.DataFrame(split_data.tolist())\n",
    "\n",
    "print(df)"
   ]
  },
  {
   "cell_type": "code",
   "execution_count": 3,
   "id": "1f1ec262-51b7-465e-b8bc-befad98ce62c",
   "metadata": {},
   "outputs": [
    {
     "data": {
      "text/html": [
       "<div>\n",
       "<style scoped>\n",
       "    .dataframe tbody tr th:only-of-type {\n",
       "        vertical-align: middle;\n",
       "    }\n",
       "\n",
       "    .dataframe tbody tr th {\n",
       "        vertical-align: top;\n",
       "    }\n",
       "\n",
       "    .dataframe thead th {\n",
       "        text-align: right;\n",
       "    }\n",
       "</style>\n",
       "<table border=\"1\" class=\"dataframe\">\n",
       "  <thead>\n",
       "    <tr style=\"text-align: right;\">\n",
       "      <th></th>\n",
       "      <th>age</th>\n",
       "      <th>job</th>\n",
       "      <th>marital</th>\n",
       "      <th>education</th>\n",
       "      <th>default</th>\n",
       "      <th>balance</th>\n",
       "      <th>housing</th>\n",
       "      <th>loan</th>\n",
       "      <th>contact</th>\n",
       "      <th>day</th>\n",
       "      <th>month</th>\n",
       "      <th>duration</th>\n",
       "      <th>campaign</th>\n",
       "      <th>pdays</th>\n",
       "      <th>previous</th>\n",
       "      <th>poutcome</th>\n",
       "      <th>y</th>\n",
       "    </tr>\n",
       "  </thead>\n",
       "  <tbody>\n",
       "    <tr>\n",
       "      <th>0</th>\n",
       "      <td>58</td>\n",
       "      <td>\"management\"</td>\n",
       "      <td>\"married\"</td>\n",
       "      <td>\"tertiary\"</td>\n",
       "      <td>\"no\"</td>\n",
       "      <td>2143</td>\n",
       "      <td>\"yes\"</td>\n",
       "      <td>\"no\"</td>\n",
       "      <td>\"unknown\"</td>\n",
       "      <td>5</td>\n",
       "      <td>\"may\"</td>\n",
       "      <td>261</td>\n",
       "      <td>1</td>\n",
       "      <td>-1</td>\n",
       "      <td>0</td>\n",
       "      <td>\"unknown\"</td>\n",
       "      <td>\"no\"</td>\n",
       "    </tr>\n",
       "    <tr>\n",
       "      <th>1</th>\n",
       "      <td>44</td>\n",
       "      <td>\"technician\"</td>\n",
       "      <td>\"single\"</td>\n",
       "      <td>\"secondary\"</td>\n",
       "      <td>\"no\"</td>\n",
       "      <td>29</td>\n",
       "      <td>\"yes\"</td>\n",
       "      <td>\"no\"</td>\n",
       "      <td>\"unknown\"</td>\n",
       "      <td>5</td>\n",
       "      <td>\"may\"</td>\n",
       "      <td>151</td>\n",
       "      <td>1</td>\n",
       "      <td>-1</td>\n",
       "      <td>0</td>\n",
       "      <td>\"unknown\"</td>\n",
       "      <td>\"no\"</td>\n",
       "    </tr>\n",
       "    <tr>\n",
       "      <th>2</th>\n",
       "      <td>33</td>\n",
       "      <td>\"entrepreneur\"</td>\n",
       "      <td>\"married\"</td>\n",
       "      <td>\"secondary\"</td>\n",
       "      <td>\"no\"</td>\n",
       "      <td>2</td>\n",
       "      <td>\"yes\"</td>\n",
       "      <td>\"yes\"</td>\n",
       "      <td>\"unknown\"</td>\n",
       "      <td>5</td>\n",
       "      <td>\"may\"</td>\n",
       "      <td>76</td>\n",
       "      <td>1</td>\n",
       "      <td>-1</td>\n",
       "      <td>0</td>\n",
       "      <td>\"unknown\"</td>\n",
       "      <td>\"no\"</td>\n",
       "    </tr>\n",
       "    <tr>\n",
       "      <th>3</th>\n",
       "      <td>47</td>\n",
       "      <td>\"blue-collar\"</td>\n",
       "      <td>\"married\"</td>\n",
       "      <td>\"unknown\"</td>\n",
       "      <td>\"no\"</td>\n",
       "      <td>1506</td>\n",
       "      <td>\"yes\"</td>\n",
       "      <td>\"no\"</td>\n",
       "      <td>\"unknown\"</td>\n",
       "      <td>5</td>\n",
       "      <td>\"may\"</td>\n",
       "      <td>92</td>\n",
       "      <td>1</td>\n",
       "      <td>-1</td>\n",
       "      <td>0</td>\n",
       "      <td>\"unknown\"</td>\n",
       "      <td>\"no\"</td>\n",
       "    </tr>\n",
       "    <tr>\n",
       "      <th>4</th>\n",
       "      <td>33</td>\n",
       "      <td>\"unknown\"</td>\n",
       "      <td>\"single\"</td>\n",
       "      <td>\"unknown\"</td>\n",
       "      <td>\"no\"</td>\n",
       "      <td>1</td>\n",
       "      <td>\"no\"</td>\n",
       "      <td>\"no\"</td>\n",
       "      <td>\"unknown\"</td>\n",
       "      <td>5</td>\n",
       "      <td>\"may\"</td>\n",
       "      <td>198</td>\n",
       "      <td>1</td>\n",
       "      <td>-1</td>\n",
       "      <td>0</td>\n",
       "      <td>\"unknown\"</td>\n",
       "      <td>\"no\"</td>\n",
       "    </tr>\n",
       "  </tbody>\n",
       "</table>\n",
       "</div>"
      ],
      "text/plain": [
       "  age             job    marital    education default balance housing   loan  \\\n",
       "0  58    \"management\"  \"married\"   \"tertiary\"    \"no\"    2143   \"yes\"   \"no\"   \n",
       "1  44    \"technician\"   \"single\"  \"secondary\"    \"no\"      29   \"yes\"   \"no\"   \n",
       "2  33  \"entrepreneur\"  \"married\"  \"secondary\"    \"no\"       2   \"yes\"  \"yes\"   \n",
       "3  47   \"blue-collar\"  \"married\"    \"unknown\"    \"no\"    1506   \"yes\"   \"no\"   \n",
       "4  33       \"unknown\"   \"single\"    \"unknown\"    \"no\"       1    \"no\"   \"no\"   \n",
       "\n",
       "     contact day  month duration campaign pdays previous   poutcome     y  \n",
       "0  \"unknown\"   5  \"may\"      261        1    -1        0  \"unknown\"  \"no\"  \n",
       "1  \"unknown\"   5  \"may\"      151        1    -1        0  \"unknown\"  \"no\"  \n",
       "2  \"unknown\"   5  \"may\"       76        1    -1        0  \"unknown\"  \"no\"  \n",
       "3  \"unknown\"   5  \"may\"       92        1    -1        0  \"unknown\"  \"no\"  \n",
       "4  \"unknown\"   5  \"may\"      198        1    -1        0  \"unknown\"  \"no\"  "
      ]
     },
     "execution_count": 3,
     "metadata": {},
     "output_type": "execute_result"
    }
   ],
   "source": [
    "columns = df.columns\n",
    "columns = ['age', 'job', 'marital', 'education', 'default', 'balance', \n",
    "           'housing', 'loan', 'contact', 'day', 'month', \n",
    "           'duration', 'campaign', 'pdays', 'previous', 'poutcome', 'y']\n",
    "df.columns = columns\n",
    "df.head()"
   ]
  },
  {
   "cell_type": "code",
   "execution_count": 4,
   "id": "653e029b-92eb-4abc-98f8-e503e7014ef2",
   "metadata": {},
   "outputs": [],
   "source": [
    "df = df.drop('loan', axis=1)"
   ]
  },
  {
   "cell_type": "code",
   "execution_count": 22,
   "id": "6143a245-17c9-4f6f-b897-25cf6d4c821b",
   "metadata": {},
   "outputs": [],
   "source": [
    "df = df.drop('default', axis=1)"
   ]
  },
  {
   "cell_type": "markdown",
   "id": "898452b5-1a21-4a72-bb69-4e6b81cbaf3f",
   "metadata": {
    "jp-MarkdownHeadingCollapsed": true
   },
   "source": [
    "<p>Вопрос 1</p>"
   ]
  },
  {
   "cell_type": "code",
   "execution_count": 23,
   "id": "9d2169f0-e233-4788-862e-f787200edcb1",
   "metadata": {},
   "outputs": [
    {
     "name": "stdout",
     "output_type": "stream",
     "text": [
      "Наиболее встречаемое значение в столбце education:  \"secondary\"\n"
     ]
    }
   ],
   "source": [
    "mode_value = df['education'].mode().values[0]\n",
    "print('Наиболее встречаемое значение в столбце education' ': ', mode_value)"
   ]
  },
  {
   "cell_type": "markdown",
   "id": "70d22792-ab77-4bd7-98e6-c42e003af12b",
   "metadata": {
    "jp-MarkdownHeadingCollapsed": true
   },
   "source": [
    "<p>Вопрос 2</p>"
   ]
  },
  {
   "cell_type": "code",
   "execution_count": 24,
   "id": "b59b47e9-73a6-444a-87e9-89ed46834369",
   "metadata": {},
   "outputs": [],
   "source": [
    "df[['age', 'balance', 'day', 'duration', 'campaign', 'pdays', 'previous']] = df[['age', 'balance', 'day', 'duration', 'campaign', 'pdays', 'previous']].astype(int)"
   ]
  },
  {
   "cell_type": "code",
   "execution_count": 25,
   "id": "2f347e11-9f58-4615-93fc-e0ba67a7557d",
   "metadata": {},
   "outputs": [],
   "source": [
    "import matplotlib.pyplot as plt\n",
    "import seaborn as sns"
   ]
  },
  {
   "cell_type": "code",
   "execution_count": 28,
   "id": "962e2fcd-c848-497f-b417-a5eb0c868d9c",
   "metadata": {},
   "outputs": [
    {
     "data": {
      "text/html": [
       "<div>\n",
       "<style scoped>\n",
       "    .dataframe tbody tr th:only-of-type {\n",
       "        vertical-align: middle;\n",
       "    }\n",
       "\n",
       "    .dataframe tbody tr th {\n",
       "        vertical-align: top;\n",
       "    }\n",
       "\n",
       "    .dataframe thead th {\n",
       "        text-align: right;\n",
       "    }\n",
       "</style>\n",
       "<table border=\"1\" class=\"dataframe\">\n",
       "  <thead>\n",
       "    <tr style=\"text-align: right;\">\n",
       "      <th></th>\n",
       "      <th>age</th>\n",
       "      <th>balance</th>\n",
       "      <th>day</th>\n",
       "      <th>duration</th>\n",
       "      <th>campaign</th>\n",
       "      <th>pdays</th>\n",
       "      <th>previous</th>\n",
       "      <th>y</th>\n",
       "      <th>job_\"blue-collar\"</th>\n",
       "      <th>job_\"entrepreneur\"</th>\n",
       "      <th>...</th>\n",
       "      <th>month_\"jul\"</th>\n",
       "      <th>month_\"jun\"</th>\n",
       "      <th>month_\"mar\"</th>\n",
       "      <th>month_\"may\"</th>\n",
       "      <th>month_\"nov\"</th>\n",
       "      <th>month_\"oct\"</th>\n",
       "      <th>month_\"sep\"</th>\n",
       "      <th>poutcome_\"other\"</th>\n",
       "      <th>poutcome_\"success\"</th>\n",
       "      <th>poutcome_\"unknown\"</th>\n",
       "    </tr>\n",
       "  </thead>\n",
       "  <tbody>\n",
       "    <tr>\n",
       "      <th>0</th>\n",
       "      <td>58</td>\n",
       "      <td>2143</td>\n",
       "      <td>5</td>\n",
       "      <td>261</td>\n",
       "      <td>1</td>\n",
       "      <td>-1</td>\n",
       "      <td>0</td>\n",
       "      <td>0</td>\n",
       "      <td>False</td>\n",
       "      <td>False</td>\n",
       "      <td>...</td>\n",
       "      <td>False</td>\n",
       "      <td>False</td>\n",
       "      <td>False</td>\n",
       "      <td>True</td>\n",
       "      <td>False</td>\n",
       "      <td>False</td>\n",
       "      <td>False</td>\n",
       "      <td>False</td>\n",
       "      <td>False</td>\n",
       "      <td>True</td>\n",
       "    </tr>\n",
       "    <tr>\n",
       "      <th>1</th>\n",
       "      <td>44</td>\n",
       "      <td>29</td>\n",
       "      <td>5</td>\n",
       "      <td>151</td>\n",
       "      <td>1</td>\n",
       "      <td>-1</td>\n",
       "      <td>0</td>\n",
       "      <td>0</td>\n",
       "      <td>False</td>\n",
       "      <td>False</td>\n",
       "      <td>...</td>\n",
       "      <td>False</td>\n",
       "      <td>False</td>\n",
       "      <td>False</td>\n",
       "      <td>True</td>\n",
       "      <td>False</td>\n",
       "      <td>False</td>\n",
       "      <td>False</td>\n",
       "      <td>False</td>\n",
       "      <td>False</td>\n",
       "      <td>True</td>\n",
       "    </tr>\n",
       "    <tr>\n",
       "      <th>2</th>\n",
       "      <td>33</td>\n",
       "      <td>2</td>\n",
       "      <td>5</td>\n",
       "      <td>76</td>\n",
       "      <td>1</td>\n",
       "      <td>-1</td>\n",
       "      <td>0</td>\n",
       "      <td>0</td>\n",
       "      <td>False</td>\n",
       "      <td>True</td>\n",
       "      <td>...</td>\n",
       "      <td>False</td>\n",
       "      <td>False</td>\n",
       "      <td>False</td>\n",
       "      <td>True</td>\n",
       "      <td>False</td>\n",
       "      <td>False</td>\n",
       "      <td>False</td>\n",
       "      <td>False</td>\n",
       "      <td>False</td>\n",
       "      <td>True</td>\n",
       "    </tr>\n",
       "    <tr>\n",
       "      <th>3</th>\n",
       "      <td>47</td>\n",
       "      <td>1506</td>\n",
       "      <td>5</td>\n",
       "      <td>92</td>\n",
       "      <td>1</td>\n",
       "      <td>-1</td>\n",
       "      <td>0</td>\n",
       "      <td>0</td>\n",
       "      <td>True</td>\n",
       "      <td>False</td>\n",
       "      <td>...</td>\n",
       "      <td>False</td>\n",
       "      <td>False</td>\n",
       "      <td>False</td>\n",
       "      <td>True</td>\n",
       "      <td>False</td>\n",
       "      <td>False</td>\n",
       "      <td>False</td>\n",
       "      <td>False</td>\n",
       "      <td>False</td>\n",
       "      <td>True</td>\n",
       "    </tr>\n",
       "    <tr>\n",
       "      <th>4</th>\n",
       "      <td>33</td>\n",
       "      <td>1</td>\n",
       "      <td>5</td>\n",
       "      <td>198</td>\n",
       "      <td>1</td>\n",
       "      <td>-1</td>\n",
       "      <td>0</td>\n",
       "      <td>0</td>\n",
       "      <td>False</td>\n",
       "      <td>False</td>\n",
       "      <td>...</td>\n",
       "      <td>False</td>\n",
       "      <td>False</td>\n",
       "      <td>False</td>\n",
       "      <td>True</td>\n",
       "      <td>False</td>\n",
       "      <td>False</td>\n",
       "      <td>False</td>\n",
       "      <td>False</td>\n",
       "      <td>False</td>\n",
       "      <td>True</td>\n",
       "    </tr>\n",
       "  </tbody>\n",
       "</table>\n",
       "<p>5 rows × 41 columns</p>\n",
       "</div>"
      ],
      "text/plain": [
       "   age  balance  day  duration  campaign  pdays  previous  y  \\\n",
       "0   58     2143    5       261         1     -1         0  0   \n",
       "1   44       29    5       151         1     -1         0  0   \n",
       "2   33        2    5        76         1     -1         0  0   \n",
       "3   47     1506    5        92         1     -1         0  0   \n",
       "4   33        1    5       198         1     -1         0  0   \n",
       "\n",
       "   job_\"blue-collar\"  job_\"entrepreneur\"  ...  month_\"jul\"  month_\"jun\"  \\\n",
       "0              False               False  ...        False        False   \n",
       "1              False               False  ...        False        False   \n",
       "2              False                True  ...        False        False   \n",
       "3               True               False  ...        False        False   \n",
       "4              False               False  ...        False        False   \n",
       "\n",
       "   month_\"mar\"  month_\"may\"  month_\"nov\"  month_\"oct\"  month_\"sep\"  \\\n",
       "0        False         True        False        False        False   \n",
       "1        False         True        False        False        False   \n",
       "2        False         True        False        False        False   \n",
       "3        False         True        False        False        False   \n",
       "4        False         True        False        False        False   \n",
       "\n",
       "   poutcome_\"other\"  poutcome_\"success\"  poutcome_\"unknown\"  \n",
       "0             False               False                True  \n",
       "1             False               False                True  \n",
       "2             False               False                True  \n",
       "3             False               False                True  \n",
       "4             False               False                True  \n",
       "\n",
       "[5 rows x 41 columns]"
      ]
     },
     "execution_count": 28,
     "metadata": {},
     "output_type": "execute_result"
    }
   ],
   "source": [
    "df_encoded = pd.get_dummies(df, drop_first=True)\n",
    "df_encoded.head()"
   ]
  },
  {
   "cell_type": "code",
   "execution_count": 29,
   "id": "3d4f9a26-b3d1-4f42-8bf5-a9c096ea0cf2",
   "metadata": {},
   "outputs": [
    {
     "data": {
      "image/png": "[encoded data removed]",
      "text/plain": [
       "<Figure size 1200x800 with 2 Axes>"
      ]
     },
     "metadata": {},
     "output_type": "display_data"
    }
   ],
   "source": [
    "columns_cor = df[['age', 'balance', 'day', 'duration', 'campaign', 'pdays', 'previous']]\n",
    "c_m = columns_cor.corr()\n",
    "plt.figure(figsize=(12, 8))\n",
    "sns.heatmap(c_m.corr(), annot=True, cmap='coolwarm', fmt=\".2f\", linewidths=0.5)\n",
    "plt.title('Корреляционная матрица')\n",
    "plt.show()"
   ]
  },
  {
   "cell_type": "code",
   "execution_count": 30,
   "id": "98a67900-29ac-4319-9903-4597f7d4cb5d",
   "metadata": {},
   "outputs": [
    {
     "name": "stdout",
     "output_type": "stream",
     "text": [
      "Наибольшая корреляция: 0.4548196354805043 между 'previous' и 'pdays'\n"
     ]
    }
   ],
   "source": [
    "max_corr = 0\n",
    "max_pair = (None, None)\n",
    "for i in range(len(c_m.columns)):\n",
    "    for j in range(i):\n",
    "        corr_value = c_m.iloc[i, j]\n",
    "        if abs(corr_value) > abs(max_corr):\n",
    "            max_corr = corr_value\n",
    "            max_pair = (c_m.columns[i], c_m.columns[j])\n",
    "print(f\"Наибольшая корреляция: {max_corr} между '{max_pair[0]}' и '{max_pair[1]}'\")"
   ]
  },
  {
   "cell_type": "markdown",
   "id": "2e5484de-23b2-4bf7-a734-2c114a2e2136",
   "metadata": {
    "jp-MarkdownHeadingCollapsed": true
   },
   "source": [
    "<p>Вопрос 3</p>"
   ]
  },
  {
   "cell_type": "code",
   "execution_count": 40,
   "id": "5220ff78-9dd1-4e44-8fe2-7cf0e71c2505",
   "metadata": {},
   "outputs": [],
   "source": [
    "df_encoded['y'] = df_encoded['y'].replace({'\"yes\"': 1, '\"no\"': 0})"
   ]
  },
  {
   "cell_type": "code",
   "execution_count": 41,
   "id": "02a86a7f-38fd-4f9b-a954-ed0436d5e1aa",
   "metadata": {},
   "outputs": [],
   "source": [
    "df_encoded[['y']] = df_encoded[['y']].astype(int)"
   ]
  },
  {
   "cell_type": "code",
   "execution_count": 85,
   "id": "bc80b692-f0a1-48a2-8646-3e3bf40063c1",
   "metadata": {},
   "outputs": [],
   "source": [
    "from sklearn.model_selection import train_test_split, cross_val_score\n",
    "from sklearn.linear_model import LinearRegression\n",
    "from sklearn.metrics import r2_score, mutual_info_score"
   ]
  },
  {
   "cell_type": "code",
   "execution_count": 43,
   "id": "367cd335-3713-4f5f-b106-b70649ecc424",
   "metadata": {},
   "outputs": [],
   "source": [
    "X = df_encoded.drop('y', axis=1)\n",
    "y = df_encoded['y']\n",
    "\n",
    "X_train, X_temp, y_train, y_temp = train_test_split(X, y, test_size=0.4, random_state=42)\n",
    "X_val, X_test, y_val, y_test = train_test_split(X_temp, y_temp, test_size=0.5, random_state=42)"
   ]
  },
  {
   "cell_type": "code",
   "execution_count": 35,
   "id": "b63e999d-ec7f-4d6f-bf20-19d8109ee654",
   "metadata": {},
   "outputs": [
    {
     "name": "stdout",
     "output_type": "stream",
     "text": [
      "Переменная с наибольшей взаимной информацией: balance (взаимная информация: 0.12)\n"
     ]
    }
   ],
   "source": [
    "mutual_info_scores = {}\n",
    "for column in X_train.columns:\n",
    "    score = mutual_info_score(X_train[column], y_train)\n",
    "    mutual_info_scores[column] = score\n",
    "max_feature = max(mutual_info_scores, key=mutual_info_scores.get)\n",
    "max_score = mutual_info_scores[max_feature]\n",
    "\n",
    "print(f\"Переменная с наибольшей взаимной информацией: {max_feature} (взаимная информация: {max_score:.2f})\")"
   ]
  },
  {
   "cell_type": "code",
   "execution_count": 36,
   "id": "b9fa4b82-e5d1-4b20-ab2a-9324cbba9bf9",
   "metadata": {},
   "outputs": [
    {
     "name": "stdout",
     "output_type": "stream",
     "text": [
      "contact: 0.01\n",
      "education: 0.00\n",
      "housing: 0.01\n",
      "poutcome: 0.03\n"
     ]
    }
   ],
   "source": [
    "print(f\"contact: {mutual_info_score(X_train['contact'], y_train):.2f}\")\n",
    "print(f\"education: {mutual_info_score(X_train['education'], y_train):.2f}\")\n",
    "print(f\"housing: {mutual_info_score(X_train['housing'], y_train):.2f}\")\n",
    "print(f\"poutcome: {mutual_info_score(X_train['poutcome'], y_train):.2f}\")"
   ]
  },
  {
   "cell_type": "markdown",
   "id": "7706a409-a507-4b36-abe0-f8cc38a038d3",
   "metadata": {
    "jp-MarkdownHeadingCollapsed": true
   },
   "source": [
    "<p>Вопрос 4</p>"
   ]
  },
  {
   "cell_type": "code",
   "execution_count": 44,
   "id": "5df20657-a011-46c8-958a-da24e0d4b50c",
   "metadata": {},
   "outputs": [],
   "source": [
    "from sklearn.feature_extraction import DictVectorizer\n",
    "from sklearn.preprocessing import OneHotEncoder"
   ]
  },
  {
   "cell_type": "code",
   "execution_count": 50,
   "id": "cb9785e1-d187-4c9a-b103-7024fbfb5d02",
   "metadata": {},
   "outputs": [
    {
     "name": "stdout",
     "output_type": "stream",
     "text": [
      "Полученная точность: 0.9\n"
     ]
    }
   ],
   "source": [
    "from sklearn.linear_model import LogisticRegression\n",
    "from sklearn.metrics import accuracy_score\n",
    "model = LogisticRegression(solver = 'liblinear', C = 1.0, max_iter=100, random_state=42)\n",
    "model.fit(X_train, y_train)\n",
    "y_pred = model.predict(X_val)\n",
    "original_accuracy = round(accuracy_score(y_val, y_pred),2)\n",
    "print(f\"Полученная точность: {original_accuracy}\")"
   ]
  },
  {
   "cell_type": "markdown",
   "id": "41219f8a-f3c3-41d7-b4d2-bf2ef878662f",
   "metadata": {
    "jp-MarkdownHeadingCollapsed": true
   },
   "source": [
    "<p>Вопрос 5</p>"
   ]
  },
  {
   "cell_type": "code",
   "execution_count": 52,
   "id": "b77a0bcb-2f9e-429b-8131-5b4d0f294bdf",
   "metadata": {},
   "outputs": [
    {
     "name": "stdout",
     "output_type": "stream",
     "text": [
      "marital -0.0002\n",
      "age -0.0007\n",
      "balance -0.0008\n",
      "previous -0.0009\n"
     ]
    }
   ],
   "source": [
    "categorical_features = {\n",
    "    'marital': [col for col in X_train.columns if col.startswith('marital')],\n",
    "    'age': ['age'],\n",
    "    'balance': ['balance'],\n",
    "    'previous': ['previous']\n",
    "}\n",
    "\n",
    "def train_without_encoded_feature(feature_group):\n",
    "    X_train_reduced = X_train.drop(columns=feature_group)\n",
    "    X_val_reduced = X_val.drop(columns=feature_group)\n",
    "\n",
    "    model = LogisticRegression(solver='liblinear', C=1.0, max_iter=1000, random_state=42)\n",
    "    model.fit(X_train_reduced, y_train)\n",
    "\n",
    "    y_val_pred = model.predict(X_val_reduced)\n",
    "    return accuracy_score(y_val, y_val_pred)\n",
    "\n",
    "for feature, cols in categorical_features.items():\n",
    "    accuracy_without_feature = train_without_encoded_feature(cols)\n",
    "    accuracy_drop = original_accuracy - accuracy_without_feature\n",
    "    print(feature, round(accuracy_drop, 4))"
   ]
  },
  {
   "cell_type": "markdown",
   "id": "b7092ce6-2c39-4fdf-9516-89d42e45e539",
   "metadata": {
    "jp-MarkdownHeadingCollapsed": true
   },
   "source": [
    "<p>Вопрос 6</p>"
   ]
  },
  {
   "cell_type": "code",
   "execution_count": 56,
   "id": "5520fe44-c4e6-4a5b-bec4-c0ca1debd831",
   "metadata": {},
   "outputs": [
    {
     "name": "stdout",
     "output_type": "stream",
     "text": [
      "При параметре  0.01 получаем точность  0.898\n",
      "При параметре  0.1 получаем точность  0.9\n",
      "При параметре  1 получаем точность  0.901\n",
      "При параметре  10 получаем точность  0.9\n",
      "При параметре  100 получаем точность  0.901\n"
     ]
    }
   ],
   "source": [
    "C_values = [0.01, 0.1, 1, 10, 100]\n",
    "\n",
    "def train(C_):\n",
    "\n",
    "    model = LogisticRegression(solver='liblinear', C=C_, max_iter=1000, random_state=42)\n",
    "    model.fit(X_train, y_train)\n",
    "\n",
    "    y_val_pred = model.predict(X_val)\n",
    "    return round(accuracy_score(y_val, y_val_pred), 3)\n",
    "\n",
    "for C_ in C_values:\n",
    "    print('При параметре ', C_, 'получаем точность ', train(C_))\n"
   ]
  }
 ],
 "metadata": {
  "kernelspec": {
   "display_name": "Python 3",
   "language": "python",
   "name": "python3"
  },
  "language_info": {
   "codemirror_mode": {
    "name": "ipython",
    "version": 3
   },
   "file_extension": ".py",
   "mimetype": "text/x-python",
   "name": "python",
   "nbconvert_exporter": "python",
   "pygments_lexer": "ipython3",
   "version": "3.12.7"
  }
 },
 "nbformat": 4,
 "nbformat_minor": 5
}
